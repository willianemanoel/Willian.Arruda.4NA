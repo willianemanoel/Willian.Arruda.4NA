{
 "cells": [
  {
   "cell_type": "code",
   "execution_count": null,
   "id": "a844082c",
   "metadata": {},
   "outputs": [],
   "source": [
    "from transformers import BertTokenizer, BertForSequenceClassification\n"
   ]
  },
  {
   "cell_type": "code",
   "execution_count": null,
   "id": "a1fdaa2c",
   "metadata": {},
   "outputs": [],
   "source": [
    "import torch\n"
   ]
  },
  {
   "cell_type": "code",
   "execution_count": null,
   "id": "266e281f",
   "metadata": {},
   "outputs": [],
   "source": [
    "tokenizer = BertTokenizer.from_pretrained('bert-base-uncased')\n",
    "model = BertForSequenceClassification.from_pretrained('bert-base-uncased', num_labels=3)  # 3 classes: positivo, negativo, neutro# Texto para análise\n",
    "text = \"Este produto é incrível, superou todas as minhas expectativas!\""
   ]
  },
  {
   "cell_type": "code",
   "execution_count": null,
   "id": "d6d8c0a0",
   "metadata": {},
   "outputs": [],
   "source": [
    "# Tokenize o texto\n",
    "inputs = tokenizer(text, return_tensors='pt', padding=True, truncation=True, max_length=512)"
   ]
  },
  {
   "cell_type": "code",
   "execution_count": null,
   "id": "4317d893",
   "metadata": {},
   "outputs": [],
   "source": [
    "# Faça a previsão\n",
    "with torch.no_grad():\n",
    "    outputs = model(**inputs)\n",
    "    predictions = torch.nn.functional.softmax(outputs.logits, dim=-1)"
   ]
  },
  {
   "cell_type": "code",
   "execution_count": null,
   "id": "edd06a37",
   "metadata": {},
   "outputs": [],
   "source": [
    "# Obtenha a classe com maior probabilidade\n",
    "predicted_class = predictions.argmax().item()"
   ]
  },
  {
   "cell_type": "code",
   "execution_count": null,
   "id": "fce2f8c7",
   "metadata": {},
   "outputs": [],
   "source": [
    "predicted_class"
   ]
  }
 ],
 "metadata": {
  "language_info": {
   "name": "python"
  }
 },
 "nbformat": 4,
 "nbformat_minor": 5
}
