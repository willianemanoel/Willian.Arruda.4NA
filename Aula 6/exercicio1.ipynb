{
 "cells": [
  {
   "cell_type": "code",
   "execution_count": 2,
   "id": "18e2c62f",
   "metadata": {},
   "outputs": [
    {
     "ename": "ModuleNotFoundError",
     "evalue": "No module named 'gensim'",
     "output_type": "error",
     "traceback": [
      "\u001b[0;31m---------------------------------------------------------------------------\u001b[0m",
      "\u001b[0;31mModuleNotFoundError\u001b[0m                       Traceback (most recent call last)",
      "Cell \u001b[0;32mIn[2], line 1\u001b[0m\n\u001b[0;32m----> 1\u001b[0m \u001b[38;5;28;01mfrom\u001b[39;00m \u001b[38;5;21;01mgensim\u001b[39;00m\u001b[38;5;21;01m.\u001b[39;00m\u001b[38;5;21;01mmodels\u001b[39;00m \u001b[38;5;28;01mimport\u001b[39;00m KeyedVectors\n\u001b[1;32m      2\u001b[0m \u001b[38;5;28;01mimport\u001b[39;00m \u001b[38;5;21;01mgensim\u001b[39;00m\u001b[38;5;21;01m.\u001b[39;00m\u001b[38;5;21;01mdownloader\u001b[39;00m \u001b[38;5;28;01mas\u001b[39;00m \u001b[38;5;21;01mapi\u001b[39;00m\n\u001b[1;32m      4\u001b[0m modelo \u001b[38;5;241m=\u001b[39m api\u001b[38;5;241m.\u001b[39mload(\u001b[38;5;124m\"\u001b[39m\u001b[38;5;124mglove-wiki-gigaword-100\u001b[39m\u001b[38;5;124m\"\u001b[39m)\n",
      "\u001b[0;31mModuleNotFoundError\u001b[0m: No module named 'gensim'"
     ]
    }
   ],
   "source": [
    "from gensim.models import KeyedVectors\n",
    "import gensim.downloader as api\n",
    "\n",
    "modelo = api.load(\"glove-wiki-gigaword-100\")"
   ]
  },
  {
   "cell_type": "code",
   "execution_count": null,
   "id": "98f2aba1",
   "metadata": {},
   "outputs": [],
   "source": [
    "import numpy as np\n",
    "\n",
    "def texto_para_vetor(texto, modelo):\n",
    "    palavras = texto.lower().split()\n",
    "    vetor = np.zeros(modelo.vector_size)\n",
    "    count = 0\n",
    "    for palavra in palavras:\n",
    "        if palavra in modelo:\n",
    "            vetor += modelo[palavra]\n",
    "            count += 1\n",
    "    if count > 0:\n",
    "        vetor /= count\n",
    "    return vetor"
   ]
  },
  {
   "cell_type": "code",
   "execution_count": 1,
   "id": "46b969da",
   "metadata": {},
   "outputs": [
    {
     "ename": "NameError",
     "evalue": "name 'modelo' is not defined",
     "output_type": "error",
     "traceback": [
      "\u001b[0;31m---------------------------------------------------------------------------\u001b[0m",
      "\u001b[0;31mNameError\u001b[0m                                 Traceback (most recent call last)",
      "Cell \u001b[0;32mIn[1], line 18\u001b[0m\n\u001b[1;32m     14\u001b[0m documento3 \u001b[38;5;241m=\u001b[39m \u001b[38;5;124m\"\u001b[39m\u001b[38;5;124mO restaurante tem comida deliciosa linda e preços acessíveis\u001b[39m\u001b[38;5;124m\"\u001b[39m\n\u001b[1;32m     16\u001b[0m \u001b[38;5;66;03m# Calcular similaridades (implemente sua solução)\u001b[39;00m\n\u001b[1;32m     17\u001b[0m \u001b[38;5;66;03m# similaridade entre documento1 e documento2\u001b[39;00m\n\u001b[0;32m---> 18\u001b[0m sim_doc1_doc2 \u001b[38;5;241m=\u001b[39m similaridade_documentos(documento1, documento2, \u001b[43mmodelo\u001b[49m)\n\u001b[1;32m     20\u001b[0m \u001b[38;5;66;03m# Calcular similaridade entre documento1 e documento3\u001b[39;00m\n\u001b[1;32m     21\u001b[0m sim_doc1_doc3 \u001b[38;5;241m=\u001b[39m similaridade_documentos(documento1, documento3, modelo)\n",
      "\u001b[0;31mNameError\u001b[0m: name 'modelo' is not defined"
     ]
    }
   ],
   "source": [
    "def similaridade_documentos(doc1, doc2, modelo):\n",
    "    \"\"\"Calcula a similaridade entre dois documentos usando embeddings\"\"\"\n",
    "    vetor1 = texto_para_vetor(doc1, modelo)\n",
    "    vetor2 = texto_para_vetor(doc2, modelo)\n",
    "\n",
    "    # Calcular similaridade do cosseno\n",
    "    # similaridade = 1 - distância do cosseno\n",
    "    similaridade = np.dot(vetor1, vetor2) / (np.linalg.norm(vetor1) * np.linalg.norm(vetor2))\n",
    "    return similaridade\n",
    "\n",
    "# Exercício: Calcule a similaridade entre os documentos abaixo\n",
    "documento1 = \"O filme tem uma história envolvente e atuações convincentes\"\n",
    "documento2 = \"A narrativa do filme é cativante e os atores são excelentes\"\n",
    "documento3 = \"O restaurante tem comida deliciosa linda e preços acessíveis\"\n",
    "\n",
    "# Calcular similaridades (implemente sua solução)\n",
    "# similaridade entre documento1 e documento2\n",
    "sim_doc1_doc2 = similaridade_documentos(documento1, documento2, modelo)\n",
    "\n",
    "# Calcular similaridade entre documento1 e documento3\n",
    "sim_doc1_doc3 = similaridade_documentos(documento1, documento3, modelo)\n",
    "\n",
    "print(f\"Similaridade entre documento 1 e documento 2: {sim_doc1_doc2:.4f}\")\n",
    "print(f\"Similaridade entre documento 1 e documento 3: {sim_doc1_doc3:.4f}\")"
   ]
  }
 ],
 "metadata": {
  "kernelspec": {
   "display_name": "Python 3",
   "language": "python",
   "name": "python3"
  },
  "language_info": {
   "codemirror_mode": {
    "name": "ipython",
    "version": 3
   },
   "file_extension": ".py",
   "mimetype": "text/x-python",
   "name": "python",
   "nbconvert_exporter": "python",
   "pygments_lexer": "ipython3",
   "version": "3.12.1"
  }
 },
 "nbformat": 4,
 "nbformat_minor": 5
}
